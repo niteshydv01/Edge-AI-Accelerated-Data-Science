{
 "cells": [
  {
   "cell_type": "code",
   "execution_count": 1,
   "id": "6d0d3529",
   "metadata": {},
   "outputs": [
    {
     "name": "stderr",
     "output_type": "stream",
     "text": [
      "[ WARN:0@0.300] global loadsave.cpp:241 findDecoder imread_('/Users/niteshyadav/edge ai/images.jpeg'): can't open/read file: check file path/integrity\n"
     ]
    },
    {
     "ename": "error",
     "evalue": "OpenCV(4.10.0) /Users/xperience/GHA-Actions-OpenCV/_work/opencv-python/opencv-python/opencv/modules/imgproc/src/color.cpp:196: error: (-215:Assertion failed) !_src.empty() in function 'cvtColor'\n",
     "output_type": "error",
     "traceback": [
      "\u001b[0;31m---------------------------------------------------------------------------\u001b[0m",
      "\u001b[0;31merror\u001b[0m                                     Traceback (most recent call last)",
      "Cell \u001b[0;32mIn[1], line 9\u001b[0m\n\u001b[1;32m      6\u001b[0m img \u001b[38;5;241m=\u001b[39m cv2\u001b[38;5;241m.\u001b[39mimread(\u001b[38;5;124m\"\u001b[39m\u001b[38;5;124m/Users/niteshyadav/edge ai/images.jpeg\u001b[39m\u001b[38;5;124m\"\u001b[39m)\n\u001b[1;32m      8\u001b[0m \u001b[38;5;66;03m# Convert the image to RGB for displaying with Matplotlib\u001b[39;00m\n\u001b[0;32m----> 9\u001b[0m img_rgb \u001b[38;5;241m=\u001b[39m \u001b[43mcv2\u001b[49m\u001b[38;5;241;43m.\u001b[39;49m\u001b[43mcvtColor\u001b[49m\u001b[43m(\u001b[49m\u001b[43mimg\u001b[49m\u001b[43m,\u001b[49m\u001b[43m \u001b[49m\u001b[43mcv2\u001b[49m\u001b[38;5;241;43m.\u001b[39;49m\u001b[43mCOLOR_BGR2RGB\u001b[49m\u001b[43m)\u001b[49m\n\u001b[1;32m     11\u001b[0m \u001b[38;5;66;03m# Get the dimensions of the image\u001b[39;00m\n\u001b[1;32m     12\u001b[0m rows, cols, ch \u001b[38;5;241m=\u001b[39m img\u001b[38;5;241m.\u001b[39mshape\n",
      "\u001b[0;31merror\u001b[0m: OpenCV(4.10.0) /Users/xperience/GHA-Actions-OpenCV/_work/opencv-python/opencv-python/opencv/modules/imgproc/src/color.cpp:196: error: (-215:Assertion failed) !_src.empty() in function 'cvtColor'\n"
     ]
    }
   ],
   "source": [
    "import numpy as np\n",
    "import cv2\n",
    "import matplotlib.pyplot as plt\n",
    "\n",
    "# Read the image\n",
    "img = cv2.imread(\"/Users/niteshyadav/edge ai/images.jpeg\")\n",
    "\n",
    "# Convert the image to RGB for displaying with Matplotlib\n",
    "img_rgb = cv2.cvtColor(img, cv2.COLOR_BGR2RGB)\n",
    "\n",
    "# Get the dimensions of the image\n",
    "rows, cols, ch = img.shape\n",
    "\n",
    "# Display the image\n",
    "plt.imshow(img_rgb)\n",
    "plt.title(\"Select 4 points for perspective transform\")\n",
    "\n",
    "# Allow the user to select 4 points\n",
    "x = plt.ginput(4)\n",
    "print(x)\n",
    "plt.show()\n",
    "\n",
    "# Convert selected points to np.float32 format\n",
    "pts1 = np.float32([x[0], x[1], x[2], x[3]])\n",
    "\n",
    "# Define the points for the transformed output\n",
    "pts2 = np.float32([[0, 0], [cols, 0], [0, rows], [cols, rows]])\n",
    "\n",
    "# Get the perspective transform matrix\n",
    "M = cv2.getPerspectiveTransform(pts1, pts2)\n",
    "\n",
    "# Apply the perspective warp transformation\n",
    "dst = cv2.warpPerspective(img_rgb, M, (cols, rows))\n",
    "\n",
    "# Plot the original and transformed images\n",
    "plt.subplot(121), plt.imshow(img_rgb), plt.title('Input')\n",
    "plt.subplot(122), plt.imshow(dst), plt.title('Output')\n",
    "plt.show()"
   ]
  },
  {
   "cell_type": "code",
   "execution_count": 2,
   "id": "59e89b17",
   "metadata": {},
   "outputs": [
    {
     "name": "stdout",
     "output_type": "stream",
     "text": [
      "Error: Could not open or find the image at /Users/niteshyadav/edge ai/images.jpeg. Please check the file path and try again.\n"
     ]
    },
    {
     "name": "stderr",
     "output_type": "stream",
     "text": [
      "[ WARN:0@58.065] global loadsave.cpp:241 findDecoder imread_('/Users/niteshyadav/edge ai/images.jpeg'): can't open/read file: check file path/integrity\n"
     ]
    }
   ],
   "source": [
    "import numpy as np\n",
    "import cv2\n",
    "import matplotlib.pyplot as plt\n",
    "\n",
    "# Read the image\n",
    "img_path = \"/Users/niteshyadav/edge ai/images.jpeg\"\n",
    "img = cv2.imread(img_path)\n",
    "\n",
    "# Check if the image was loaded successfully\n",
    "if img is None:\n",
    "    print(f\"Error: Could not open or find the image at {img_path}. Please check the file path and try again.\")\n",
    "else:\n",
    "    # Convert the image to RGB for displaying with Matplotlib\n",
    "    img_rgb = cv2.cvtColor(img, cv2.COLOR_BGR2RGB)\n",
    "\n",
    "    # Get the dimensions of the image\n",
    "    rows, cols, ch = img.shape\n",
    "\n",
    "    # Display the image\n",
    "    plt.imshow(img_rgb)\n",
    "    plt.title(\"Select 4 points for perspective transform\")\n",
    "\n",
    "    # Allow the user to select 4 points\n",
    "    x = plt.ginput(4)\n",
    "    print(x)\n",
    "    plt.show()\n",
    "\n",
    "    # Convert selected points to np.float32 format\n",
    "    pts1 = np.float32([x[0], x[1], x[2], x[3]])\n",
    "\n",
    "    # Define the points for the transformed output\n",
    "    pts2 = np.float32([[0, 0], [cols, 0], [0, rows], [cols, rows]])\n",
    "\n",
    "    # Get the perspective transform matrix\n",
    "    M = cv2.getPerspectiveTransform(pts1, pts2)\n",
    "\n",
    "    # Apply the perspective warp transformation\n",
    "    dst = cv2.warpPerspective(img_rgb, M, (cols, rows))\n",
    "\n",
    "    # Plot the original and transformed images\n",
    "    plt.subplot(121), plt.imshow(img_rgb), plt.title('Input')\n",
    "    plt.subplot(122), plt.imshow(dst), plt.title('Output')\n",
    "    plt.show()\n"
   ]
  },
  {
   "cell_type": "code",
   "execution_count": null,
   "id": "ed07f347",
   "metadata": {},
   "outputs": [],
   "source": []
  }
 ],
 "metadata": {
  "kernelspec": {
   "display_name": "Python 3 (ipykernel)",
   "language": "python",
   "name": "python3"
  },
  "language_info": {
   "codemirror_mode": {
    "name": "ipython",
    "version": 3
   },
   "file_extension": ".py",
   "mimetype": "text/x-python",
   "name": "python",
   "nbconvert_exporter": "python",
   "pygments_lexer": "ipython3",
   "version": "3.10.9"
  }
 },
 "nbformat": 4,
 "nbformat_minor": 5
}
