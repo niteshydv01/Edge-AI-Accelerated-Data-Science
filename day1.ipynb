{
 "cells": [
  {
   "cell_type": "code",
   "execution_count": 1,
   "id": "84f25003",
   "metadata": {},
   "outputs": [],
   "source": [
    "import os \n",
    "import cv2\n",
    "imagefol=\"/Users/niteshyadav/edge ai/images\"\n",
    "annotationfol=\"/Users/niteshyadav/edge ai/labels\"\n",
    "\n",
    "imlist= os.listdir(imagefol) # imlist will have all the imagenames\n",
    "\n",
    "for im in imlist:\n",
    "    img=cv2.imread(os.path.join(imagefol,im)) #img is a 3d array containing the rgb image\n",
    "    # no. of bits for the image=rows*cols*3*8\n",
    "    #r gb to gray is not equally weighted\n",
    "    \n",
    "    # select ROI \n",
    "    r= cv2.selectROI(img)\n",
    "    # print(r)\n",
    "    \n",
    "    frame=im[:-4]\n",
    "    #incase your est is jpeg/tiff you can use frame=im.split(\".\")[0]\n",
    "    dst_txt=frame +'.txt'\n",
    "    boxes=[]\n",
    "    boxess=[]\n",
    "    with open(os.path.join(annotationfol,dst_txt),'w') as f:\n",
    "        boxess=[r[0],r[1],r[1]+r[2],r[1]+r[3]]\n",
    "        f.write('{} {} {} {}'.format(*boxess)+'\\n')"
   ]
  },
  {
   "cell_type": "code",
   "execution_count": 2,
   "id": "84753692",
   "metadata": {},
   "outputs": [
    {
     "name": "stdout",
     "output_type": "stream",
     "text": [
      "(863, 371, 317, 266)\n"
     ]
    }
   ],
   "source": [
    "print(r)"
   ]
  },
  {
   "cell_type": "code",
   "execution_count": 3,
   "id": "91c2948c",
   "metadata": {},
   "outputs": [],
   "source": [
    "\n",
    "# Close all OpenCV windows\n",
    "cv2.destroyAllWindows()"
   ]
  },
  {
   "cell_type": "code",
   "execution_count": null,
   "id": "50a2c622",
   "metadata": {},
   "outputs": [],
   "source": [
    "cv2.wait()"
   ]
  },
  {
   "cell_type": "code",
   "execution_count": null,
   "id": "67a8b361",
   "metadata": {},
   "outputs": [],
   "source": []
  }
 ],
 "metadata": {
  "kernelspec": {
   "display_name": "Python 3 (ipykernel)",
   "language": "python",
   "name": "python3"
  },
  "language_info": {
   "codemirror_mode": {
    "name": "ipython",
    "version": 3
   },
   "file_extension": ".py",
   "mimetype": "text/x-python",
   "name": "python",
   "nbconvert_exporter": "python",
   "pygments_lexer": "ipython3",
   "version": "3.10.9"
  }
 },
 "nbformat": 4,
 "nbformat_minor": 5
}
