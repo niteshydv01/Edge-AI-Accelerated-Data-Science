{
 "cells": [
  {
   "cell_type": "code",
   "execution_count": 1,
   "id": "83d1ff18",
   "metadata": {},
   "outputs": [],
   "source": [
    "import os\n",
    "import cv2\n",
    "import matplotlib.pyplot as plt\n",
    "#first version: taking 1 ROI from each image and saving it in txt file\n",
    "#second version: we want multiple rois per image\n",
    "#third version: we want to know the type of each ROI when they are not all car or all people\n",
    "image_folder = \"/Users/niteshyadav/edge ai/images\"\n",
    "annotation_folder = \"/Users/niteshyadav/edge ai/labels\"\n",
    "font = cv2.FONT_HERSHEY_SIMPLEX\n",
    "fontScale =1\n",
    "color = (0,0,255)\n",
    "thickness = 2\n",
    "imlist = os.listdir(image_folder)\n",
    "for im in imlist:\n",
    "    img= cv2.imread(os.path.join(image_folder, im))\n",
    "    org = (10,20)\n",
    "    img = cv2.putText(img, 'next', org, font, fontScale, color, thickness, cv2.LINE_AA)\n",
    "    org = (500,20)\n",
    "    img = cv2.putText(img, 'car', org, font, fontScale, color, thickness, cv2.LINE_AA)\n",
    "    org = (1000, 20)\n",
    "    img = cv2.putText(img, 'person', org, font, fontScale, color, thickness, cv2.LINE_AA)\n",
    "    frame = im[:-4] #incase your ext is jpeg or tiff, we can use frame=im.split(\".\")[0]\n",
    "    dst_txt = frame+'.txt'\n",
    "    with open(os.path.join(annotation_folder, dst_txt), 'w') as f:\n",
    "        while(True):\n",
    "            r = cv2.selectROI(img) #returns x0 y0 width height ->selects region\n",
    "            #print(r)\n",
    "            if r[0]<50 and r[1]<50: # manipulating an exit when clicked on the top left corner\n",
    "                break\n",
    "            s = '..'\n",
    "            r1 = cv2.selectROI(img) #selects the label - car or perspn\n",
    "            if(r1[0]>500 and r1[0]<520 and r1[1]>20 and r1[1]<40):\n",
    "                s = 'car'\n",
    "            if(r1[0]>1000 and r1[0]<1020 and r1[1]>20 and r1[1]<40):\n",
    "                s = 'person'\n",
    "            boxes = []\n",
    "            boxess = []\n",
    "        \n",
    "            boxess = [s, r[0], r[1], r[0] + r[2], r[1]+r[3]]\n",
    "            f.write('{} {} {} {} {}'.format(*boxess)+'\\n')\n",
    "            #there are various annotation format requirement\n",
    "            #xmin ymin xmax ymax\n",
    "            #xmin ymin width height\n",
    "            #ymin xmin ymax xmax etc..\n",
    "    f.close()\n",
    "\n",
    "    #if we want to output normalized coordinates (between 0 and 1) in txt file, then use x = x/image_width and y = y/image_height"
   ]
  },
  {
   "cell_type": "code",
   "execution_count": null,
   "id": "fa3e4f41",
   "metadata": {},
   "outputs": [],
   "source": []
  }
 ],
 "metadata": {
  "kernelspec": {
   "display_name": "Python 3 (ipykernel)",
   "language": "python",
   "name": "python3"
  },
  "language_info": {
   "codemirror_mode": {
    "name": "ipython",
    "version": 3
   },
   "file_extension": ".py",
   "mimetype": "text/x-python",
   "name": "python",
   "nbconvert_exporter": "python",
   "pygments_lexer": "ipython3",
   "version": "3.10.9"
  }
 },
 "nbformat": 4,
 "nbformat_minor": 5
}
