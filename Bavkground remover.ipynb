{
 "cells": [
  {
   "cell_type": "markdown",
   "id": "dccfec2b",
   "metadata": {},
   "source": [
    "    # We want to remove background of an image \n",
    "    we need to use alpha channel\n",
    "    channels:R,G,B....alpha transparency channel\n",
    "    we can create alpha channel using threshold concept.what is thresholding??? we set all pixels below a threshold as 0 above threshold becomes 1."
   ]
  },
  {
   "cell_type": "code",
   "execution_count": 2,
   "id": "84ad490f",
   "metadata": {},
   "outputs": [
    {
     "data": {
      "text/plain": [
       "True"
      ]
     },
     "execution_count": 2,
     "metadata": {},
     "output_type": "execute_result"
    }
   ],
   "source": [
    "import cv2\n",
    "file_name=\"/Users/niteshyadav/edge ai/football.jpg\"\n",
    "src=cv2.imread(file_name,1)\n",
    "src1=255-src ###negative image used as bg is white,not req when black.\n",
    "\n",
    "\n",
    "tmp=cv2.cvtColor(src1,cv2.COLOR_BGR2GRAY)\n",
    "\n",
    "_, alpha=cv2.threshold(tmp,50,255,cv2.THRESH_BINARY)\n",
    "\n",
    "\n",
    "b,g,r= cv2.split(src)\n",
    "\n",
    "rgba=[b,g,r,alpha]\n",
    "\n",
    "dst=cv2.merge(rgba,4)\n",
    "\n",
    "cv2.imwrite(\"appl.png\",dst)"
   ]
  },
  {
   "cell_type": "code",
   "execution_count": null,
   "id": "cd2965ab",
   "metadata": {},
   "outputs": [],
   "source": []
  }
 ],
 "metadata": {
  "kernelspec": {
   "display_name": "Python 3 (ipykernel)",
   "language": "python",
   "name": "python3"
  },
  "language_info": {
   "codemirror_mode": {
    "name": "ipython",
    "version": 3
   },
   "file_extension": ".py",
   "mimetype": "text/x-python",
   "name": "python",
   "nbconvert_exporter": "python",
   "pygments_lexer": "ipython3",
   "version": "3.10.9"
  }
 },
 "nbformat": 4,
 "nbformat_minor": 5
}
