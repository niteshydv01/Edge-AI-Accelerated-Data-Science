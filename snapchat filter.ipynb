{
 "cells": [
  {
   "cell_type": "code",
   "execution_count": 1,
   "id": "b44041ed",
   "metadata": {},
   "outputs": [],
   "source": [
    "import cv2\n",
    "\n",
    "# Load the face cascade classifier\n",
    "face_cascade = cv2.CascadeClassifier(cv2.data.haarcascades + \"haarcascade_frontalface_default.xml\")\n",
    "\n",
    "# Start video capture\n",
    "cap = cv2.VideoCapture(0)\n",
    "\n",
    "while True:\n",
    "    # Capture frame-by-frame\n",
    "    ret, frame = cap.read()\n",
    "    \n",
    "    if not ret:\n",
    "        break\n",
    "    \n",
    "    # Convert the frame to grayscale\n",
    "    gray_image = cv2.cvtColor(frame, cv2.COLOR_BGR2GRAY)\n",
    "    \n",
    "    # Detect faces in the image\n",
    "    detections = face_cascade.detectMultiScale(gray_image, scaleFactor=1.1, minNeighbors=6)\n",
    "    \n",
    "    # Load the replacement images\n",
    "    k = cv2.imread(\"/Users/niteshyadav/edge ai/football.jpg\")\n",
    "    kk = cv2.imread(\"/Users/niteshyadav/edge ai/cricket_ball.jpg\")  # Ensure this has the correct extension\n",
    "     # Draw rectangles around the faces and replace with the images\n",
    "    for (x, y, w, h) in detections:\n",
    "        x1=x+int(3*w/8)\n",
    "        y1=y+int(3*h/8)\n",
    "        w1=int(w/4)\n",
    "        h1=int(h/4)\n",
    "        k1 = cv2.resize(k, (w1, h1))\n",
    "        kk1 = cv2.resize(kk, (w1, h1))\n",
    "        \n",
    "        if y > 200:\n",
    "            frame[y1:y1+h1, x1:x1+h1] = k1\n",
    "        else:\n",
    "            frame[y1:y1+h1, x1:x1+w1] = kk1\n",
    "    \n",
    "    # Display the resulting frame\n",
    "    cv2.imshow(\"frame\", frame)\n",
    "    \n",
    "    # Break the loop when 'q' is pressed\n",
    "    if cv2.waitKey(1) & 0xFF == ord('q'):\n",
    "        break\n",
    "\n",
    "# Release the capture and destroy all windows\n",
    "cap.release()\n",
    "cv2.destroyAllWindows()\n"
   ]
  },
  {
   "cell_type": "code",
   "execution_count": null,
   "id": "4b65727e",
   "metadata": {},
   "outputs": [],
   "source": []
  },
  {
   "cell_type": "code",
   "execution_count": null,
   "id": "9fdbd10f",
   "metadata": {},
   "outputs": [],
   "source": []
  }
 ],
 "metadata": {
  "kernelspec": {
   "display_name": "Python 3 (ipykernel)",
   "language": "python",
   "name": "python3"
  },
  "language_info": {
   "codemirror_mode": {
    "name": "ipython",
    "version": 3
   },
   "file_extension": ".py",
   "mimetype": "text/x-python",
   "name": "python",
   "nbconvert_exporter": "python",
   "pygments_lexer": "ipython3",
   "version": "3.10.9"
  }
 },
 "nbformat": 4,
 "nbformat_minor": 5
}
