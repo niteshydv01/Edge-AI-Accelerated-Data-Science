{
 "cells": [
  {
   "cell_type": "code",
   "execution_count": 1,
   "id": "4339cbe1",
   "metadata": {},
   "outputs": [],
   "source": [
    "# is window size square\n",
    "#is window size odd??\n",
    "#what is the size of the answer image after filter application ==padding will give same size\n",
    "#what does the weights in the window represent\n",
    "#do i always move the windows by 1 place??\n"
   ]
  },
  {
   "cell_type": "code",
   "execution_count": null,
   "id": "2006b8f9",
   "metadata": {},
   "outputs": [],
   "source": [
    "##blur a image\n",
    "## smooth whiteboard"
   ]
  }
 ],
 "metadata": {
  "kernelspec": {
   "display_name": "Python 3 (ipykernel)",
   "language": "python",
   "name": "python3"
  },
  "language_info": {
   "codemirror_mode": {
    "name": "ipython",
    "version": 3
   },
   "file_extension": ".py",
   "mimetype": "text/x-python",
   "name": "python",
   "nbconvert_exporter": "python",
   "pygments_lexer": "ipython3",
   "version": "3.10.9"
  }
 },
 "nbformat": 4,
 "nbformat_minor": 5
}
